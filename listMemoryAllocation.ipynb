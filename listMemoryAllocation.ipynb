{
 "cells": [
  {
   "cell_type": "markdown",
   "metadata": {},
   "source": [
    "# <u> list is both dynamic allocating array and a referential array.</u>\n",
    " list is a collection of items which can be of any data type, here it uses referential array.\n",
    " <br>\n",
    " the size of list increases with incease in element."
   ]
  },
  {
   "cell_type": "code",
   "execution_count": null,
   "metadata": {},
   "outputs": [],
   "source": [
    "# this help to know list's dynamic nature\n",
    "import sys\n",
    "l=[]\n",
    "for i in range(1,100):\n",
    "    print(i,sys.getsizeof(l))\n",
    "    l.append(i)"
   ]
  },
  {
   "cell_type": "code",
   "execution_count": 3,
   "metadata": {},
   "outputs": [
    {
     "name": "stdout",
     "output_type": "stream",
     "text": [
      "[1, 2, 3, 'abcd']\n"
     ]
    }
   ],
   "source": [
    "l=[1,2,3]               # it's purely integer list\n",
    "l.append('abcd')        # here we add or append a string value\n",
    "print(l)"
   ]
  }
 ],
 "metadata": {
  "kernelspec": {
   "display_name": "Python 3",
   "language": "python",
   "name": "python3"
  },
  "language_info": {
   "codemirror_mode": {
    "name": "ipython",
    "version": 3
   },
   "file_extension": ".py",
   "mimetype": "text/x-python",
   "name": "python",
   "nbconvert_exporter": "python",
   "pygments_lexer": "ipython3",
   "version": "3.11.5"
  }
 },
 "nbformat": 4,
 "nbformat_minor": 2
}
