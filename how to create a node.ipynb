{
 "cells": [
  {
   "cell_type": "code",
   "execution_count": 43,
   "metadata": {},
   "outputs": [],
   "source": [
    "class Node:\n",
    "    def __init__(self,value):\n",
    "        self.data=value\n",
    "        self.next=None\n",
    "        "
   ]
  },
  {
   "cell_type": "code",
   "execution_count": 44,
   "metadata": {},
   "outputs": [],
   "source": [
    "a=Node('ab')\n",
    "b=Node('cd')\n",
    "c=Node('ef')\n"
   ]
  },
  {
   "cell_type": "code",
   "execution_count": 45,
   "metadata": {},
   "outputs": [
    {
     "name": "stdout",
     "output_type": "stream",
     "text": [
      "<__main__.Node object at 0x000001E4E862DB10>\n",
      "2082662963984\n"
     ]
    },
    {
     "data": {
      "text/plain": [
       "2082662642384"
      ]
     },
     "execution_count": 45,
     "metadata": {},
     "output_type": "execute_result"
    }
   ],
   "source": [
    "print(a)\n",
    "print(id(a))\n",
    "int(0x000001E4E85DF2D0)   # 0x000001E4E85DF2D0 is nothing but address where a-object is store i've just converted the hexadecimal to int-type to know it better\n",
    "                          # and each time you run the program the address changes so change the id to see the changed address"
   ]
  },
  {
   "cell_type": "code",
   "execution_count": 46,
   "metadata": {},
   "outputs": [],
   "source": [
    "# so let's link those node \n",
    "# so we know that 'a' is an object of class 'Node' and it just holds the address of that object \n",
    "#so just initialize a.next = b , this simply links these 2 node\n",
    "a.next = b\n",
    "b.next = c       # let c.next be \"none\""
   ]
  }
 ],
 "metadata": {
  "kernelspec": {
   "display_name": "Python 3",
   "language": "python",
   "name": "python3"
  },
  "language_info": {
   "codemirror_mode": {
    "name": "ipython",
    "version": 3
   },
   "file_extension": ".py",
   "mimetype": "text/x-python",
   "name": "python",
   "nbconvert_exporter": "python",
   "pygments_lexer": "ipython3",
   "version": "3.11.5"
  }
 },
 "nbformat": 4,
 "nbformat_minor": 2
}
