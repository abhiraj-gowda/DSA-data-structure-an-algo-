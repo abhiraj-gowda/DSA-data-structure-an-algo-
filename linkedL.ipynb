{
 "cells": [
  {
   "cell_type": "code",
   "execution_count": 5,
   "metadata": {},
   "outputs": [
    {
     "name": "stdout",
     "output_type": "stream",
     "text": [
      "10->5->\n"
     ]
    }
   ],
   "source": [
    "class Node:\n",
    "    def __init__(self, data=None,next=None):\n",
    "        self.data=data\n",
    "        self.next=next\n",
    "class linked_list:\n",
    "    def __init__(self) :\n",
    "        self.head=None\n",
    "    def insertion(self,data):\n",
    "        node=Node(data,self.head)\n",
    "        self.head=node\n",
    "    def print(self):\n",
    "        if self.head is None:\n",
    "            print(\"linked list is empty\")\n",
    "            return\n",
    "        itr=self.head\n",
    "        ll=''\n",
    "        while itr:\n",
    "            ll+=str(itr.data)+\"->\"\n",
    "            itr=itr.next\n",
    "        print(ll)\n",
    "if __name__==\"__main__\":\n",
    "    llist=linked_list()\n",
    "    llist.insertion(5)\n",
    "    llist.insertion(10)\n",
    "    llist.print()"
   ]
  },
  {
   "cell_type": "code",
   "execution_count": 6,
   "metadata": {},
   "outputs": [
    {
     "name": "stdout",
     "output_type": "stream",
     "text": [
      "Hello\n",
      "World!\n"
     ]
    }
   ],
   "source": [
    "print(\"Hello\\nWorld!\")"
   ]
  },
  {
   "cell_type": "code",
   "execution_count": 7,
   "metadata": {},
   "outputs": [
    {
     "data": {
      "text/plain": [
       "1"
      ]
     },
     "execution_count": 7,
     "metadata": {},
     "output_type": "execute_result"
    }
   ],
   "source": [
    "\"0123456\".find('1')"
   ]
  },
  {
   "cell_type": "code",
   "execution_count": 8,
   "metadata": {},
   "outputs": [
    {
     "data": {
      "text/plain": [
       "[1, 2, 3, 22]"
      ]
     },
     "execution_count": 8,
     "metadata": {},
     "output_type": "execute_result"
    }
   ],
   "source": [
    "a=[1,2,3]\n",
    "a.append(22)\n",
    "a"
   ]
  }
 ],
 "metadata": {
  "kernelspec": {
   "display_name": "Python 3",
   "language": "python",
   "name": "python3"
  },
  "language_info": {
   "codemirror_mode": {
    "name": "ipython",
    "version": 3
   },
   "file_extension": ".py",
   "mimetype": "text/x-python",
   "name": "python",
   "nbconvert_exporter": "python",
   "pygments_lexer": "ipython3",
   "version": "3.11.5"
  }
 },
 "nbformat": 4,
 "nbformat_minor": 2
}
