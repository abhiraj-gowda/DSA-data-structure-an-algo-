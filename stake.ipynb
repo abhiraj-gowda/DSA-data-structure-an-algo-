{
 "cells": [
  {
   "cell_type": "markdown",
   "metadata": {},
   "source": [
    "# start with <u>stake</u> using linked list ,cuz it's easy"
   ]
  },
  {
   "cell_type": "code",
   "execution_count": 38,
   "metadata": {},
   "outputs": [],
   "source": [
    "# class for making node\n",
    "class Node:\n",
    "    def __init__(self, value):\n",
    "        self.data=value\n",
    "        self.next=None\n",
    "\n",
    "# class to create Linked lists\n",
    "class Stack:\n",
    "    def __init__(self):\n",
    "        self.head=None\n",
    "        self.n=0\n",
    "    \n",
    "    # write print function\n",
    "    def __str__(self):\n",
    "        #check for empty list\n",
    "        if self.n==0:\n",
    "            return \"stack is empty\"\n",
    "        result = ''\n",
    "        current=self.head\n",
    "        while current:\n",
    "            result=result+'->'+str(current.data)\n",
    "            current=current.next\n",
    "        return result\n",
    "    \n",
    "    # function to add node at begining of the list\n",
    "    def push(self, value):\n",
    "        #create a new node\n",
    "        new_node=Node(value)\n",
    "        #check for empty list\n",
    "        if self.n==0:\n",
    "            self.head=new_node\n",
    "            self.n+=1\n",
    "            return\n",
    "        #else add nodes at the begining\n",
    "        new_node.next=self.head\n",
    "        self.head=new_node\n",
    "        self.n+=1\n",
    "        \n",
    "    # function to pop from the list/stack\n",
    "    def pop(self):\n",
    "        #check for empty list\n",
    "        if self.n==0:\n",
    "            return \"stack is empty\"\n",
    "        popItem=self.head.data\n",
    "        self.head=self.head.next\n",
    "        self.n-=1\n",
    "        return popItem\n",
    "    \n",
    "    # peek function to know the top most item\n",
    "    def peek(self):\n",
    "        #check for empty list\n",
    "        if self.n==0:\n",
    "            return \"stack is empty\"\n",
    "        return self.head.data\n",
    "    \n",
    "    #  function to give number of items in stack\n",
    "    def size(self):\n",
    "        return self.n\n",
    "    \n",
    "    # function to check if stack is empty\n",
    "    def is_empty(self):\n",
    "        if self.n==0:\n",
    "            return True\n",
    "        else:\n",
    "            return False\n",
    "        \n",
    "    # function related to some questions\n",
    "    # given a word ,use stake to reverse it\n",
    "    def reverse_string(self):\n",
    "        #check for empty list\n",
    "        if self.n==0:\n",
    "            return \"stack is empty\"\n",
    "        # traverse and store the string in a variable\n",
    "        result=\"\"\n",
    "        current=self.head\n",
    "        #use pop function ,or type it\n",
    "        while current != None:\n",
    "            result =   result+current.data\n",
    "            current = current.next\n",
    "        return result\n",
    "        \n",
    "        "
   ]
  },
  {
   "cell_type": "code",
   "execution_count": 39,
   "metadata": {},
   "outputs": [
    {
     "name": "stdout",
     "output_type": "stream",
     "text": [
      "stack is empty\n",
      "->21->20->19->18->17->16->15->14->13->12->11\n",
      "->20->19->18->17->16->15->14->13->12->11\n",
      "10\n"
     ]
    }
   ],
   "source": [
    "a=Stack()\n",
    "print(a)\n",
    "for i in range(11,22):\n",
    "    a.push(i)\n",
    "print(a)\n",
    "a.pop()\n",
    "print(a)\n",
    "print(a.size())"
   ]
  },
  {
   "cell_type": "code",
   "execution_count": 40,
   "metadata": {},
   "outputs": [],
   "source": [
    "# stack related question\n",
    "#1. reverse string using stack\n",
    "# stringg=input(\"enter a word\")\n",
    "# string=Stack()\n",
    "# for i in stringg:\n",
    "#     string.push(i)\n",
    "# print(string)\n",
    "# string.reverse_string()"
   ]
  },
  {
   "cell_type": "code",
   "execution_count": 41,
   "metadata": {},
   "outputs": [],
   "source": [
    "#2. text editer...(here you get a word and then a pattern according to which have to undo and redo)\n",
    "def text_editter(text,pattern):\n",
    "    # one stack for pushing text into it and operating over it\n",
    "    #this helps store the popped item \n",
    "    stk1=Stack()\n",
    "    stk2=Stack()\n",
    "    # pus text to stack (loop)\n",
    "    for letter in text:\n",
    "        stk1.push(letter)\n",
    "    print(stk1)\n",
    "    #iterate pattern over loop for operation and make sure the first charecter is not u(undo)\n",
    "    if pattern[0]=='r':\n",
    "        return \"frist character shouldn't be u(undo)\"\n",
    "    for charr in pattern:\n",
    "        if charr =='u': \n",
    "            stk2.push(stk1.pop())\n",
    "        elif charr == \"r\":\n",
    "            #check if stk2 is empty\n",
    "            if stk2.is_empty():\n",
    "                return 'sorry ,no more redo operation'\n",
    "            stk1.push(stk2.pop())\n",
    "        else:\n",
    "            return \"invalid pattern\"\n",
    "    return  stk1\n",
    "\n",
    "        "
   ]
  },
  {
   "cell_type": "code",
   "execution_count": 44,
   "metadata": {},
   "outputs": [
    {
     "name": "stdout",
     "output_type": "stream",
     "text": [
      "->i->h->b->a\n",
      "->h->b->a\n"
     ]
    }
   ],
   "source": [
    "print(text_editter('abhi','uruur'))"
   ]
  }
 ],
 "metadata": {
  "kernelspec": {
   "display_name": "Python 3",
   "language": "python",
   "name": "python3"
  },
  "language_info": {
   "codemirror_mode": {
    "name": "ipython",
    "version": 3
   },
   "file_extension": ".py",
   "mimetype": "text/x-python",
   "name": "python",
   "nbconvert_exporter": "python",
   "pygments_lexer": "ipython3",
   "version": "3.11.5"
  }
 },
 "nbformat": 4,
 "nbformat_minor": 2
}
