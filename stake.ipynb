{
 "cells": [
  {
   "cell_type": "markdown",
   "metadata": {},
   "source": [
    "# start with <u>stake</u> using linked list ,cuz it's easy"
   ]
  },
  {
   "cell_type": "code",
   "execution_count": 48,
   "metadata": {},
   "outputs": [],
   "source": [
    "# class for making node\n",
    "class Node:\n",
    "    def __init__(self, value):\n",
    "        self.data=value\n",
    "        self.next=None\n",
    "\n",
    "# class to create Linked lists\n",
    "class LinkedList:\n",
    "    def __init__(self):\n",
    "        self.head=None\n",
    "        self.n=0\n",
    "    \n",
    "    # write print function\n",
    "    def __str__(self):\n",
    "        #check for empty list\n",
    "        if self.n==0:\n",
    "            return \"stack is empty\"\n",
    "        result = ''\n",
    "        current=self.head\n",
    "        while current:\n",
    "            result=result+'->'+str(current.data)\n",
    "            current=current.next\n",
    "        return result\n",
    "    \n",
    "    # function to add node at begining of the list\n",
    "    def push(self, value):\n",
    "        #create a new node\n",
    "        new_node=Node(value)\n",
    "        #check for empty list\n",
    "        if self.n==0:\n",
    "            self.head=new_node\n",
    "            self.n+=1\n",
    "            return\n",
    "        #else add nodes at the begining\n",
    "        new_node.next=self.head\n",
    "        self.head=new_node\n",
    "        self.n+=1\n",
    "        \n",
    "    # function to pop from the list/stack\n",
    "    def pop(self):\n",
    "        #check for empty list\n",
    "        if self.n==0:\n",
    "            return \"stack is empty\"\n",
    "        self.head=self.head.next\n",
    "        self.n-=1\n",
    "        "
   ]
  },
  {
   "cell_type": "code",
   "execution_count": 49,
   "metadata": {},
   "outputs": [
    {
     "name": "stdout",
     "output_type": "stream",
     "text": [
      "stack is empty\n",
      "->6->6->6->6->6->6\n",
      "->6->6->6->6->6\n"
     ]
    }
   ],
   "source": [
    "a=LinkedList()\n",
    "print(a)\n",
    "a.push(6)\n",
    "a.push(6)\n",
    "a.push(6)\n",
    "a.push(6)\n",
    "a.push(6)\n",
    "a.push(6)\n",
    "print(a)\n",
    "a.pop()\n",
    "print(a)"
   ]
  },
  {
   "cell_type": "code",
   "execution_count": 55,
   "metadata": {},
   "outputs": [
    {
     "name": "stdout",
     "output_type": "stream",
     "text": [
      "stack is empty\n"
     ]
    }
   ],
   "source": [
    "a.pop()\n",
    "print(a)"
   ]
  }
 ],
 "metadata": {
  "kernelspec": {
   "display_name": "Python 3",
   "language": "python",
   "name": "python3"
  },
  "language_info": {
   "codemirror_mode": {
    "name": "ipython",
    "version": 3
   },
   "file_extension": ".py",
   "mimetype": "text/x-python",
   "name": "python",
   "nbconvert_exporter": "python",
   "pygments_lexer": "ipython3",
   "version": "3.11.5"
  }
 },
 "nbformat": 4,
 "nbformat_minor": 2
}
